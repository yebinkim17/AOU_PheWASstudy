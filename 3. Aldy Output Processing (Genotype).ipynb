{
 "cells": [
  {
   "cell_type": "markdown",
   "metadata": {},
   "source": [
    "1. This script processes genotype data from Aldy4. It generates \"allele_df_for_set123\", which will be the target data of the prediction model. (matrix : row-person_id, col-star_allele, value-the number of allele)\n",
    "\n",
    "\n",
    "2. This script conducts statistical test on the alleles types which are included in all SAMPLE_SET_1, SAMPLE_SET_2, SAMPLE_SET_3, and SAMPLE_SET_4. "
   ]
  },
  {
   "cell_type": "markdown",
   "metadata": {},
   "source": [
    "# Check Output"
   ]
  },
  {
   "cell_type": "code",
   "execution_count": 1,
   "metadata": {},
   "outputs": [],
   "source": [
    "# !ls aldy_output > aldy_output_file.txt"
   ]
  },
  {
   "cell_type": "code",
   "execution_count": 2,
   "metadata": {},
   "outputs": [
    {
     "name": "stdout",
     "output_type": "stream",
     "text": [
      "processed # of person id: 2283\n",
      "1948725 : 11\n",
      "1948725 : 11\n",
      "1948725 : 11\n",
      "1948725 : 11\n",
      "1948725 : 11\n",
      "1948725 : 11\n",
      "1948725 : 11\n",
      "1948725 : 11\n",
      "1948725 : 11\n",
      "1948725 : 11\n",
      "1948725 : 11\n",
      "9454296 : 4\n",
      "9454296 : 4\n",
      "9454296 : 4\n",
      "9454296 : 4\n"
     ]
    }
   ],
   "source": [
    "with open('aldy_output_file.txt', 'r') as file:\n",
    "    a = file.readlines()\n",
    "\n",
    "# check the number of files created\n",
    "p = [] # person id\n",
    "g = [] # gene\n",
    "for file in a[0:len(a)-1]:\n",
    "    p.append(int(file[0:7]))\n",
    "    g.append(file[8:].strip(\".aldy\\n\"))\n",
    "    \n",
    "print(\"processed # of person id:\", len(set(p)))\n",
    "    \n",
    "# check if person id : gene pair\n",
    "for person in p:\n",
    "    if p.count(person) != 5:\n",
    "        print(person,\":\",p.count(person))\n"
   ]
  },
  {
   "cell_type": "code",
   "execution_count": 3,
   "metadata": {},
   "outputs": [],
   "source": [
    "import os\n",
    "import os.path\n",
    "import pandas as pd\n",
    "import numpy as np\n",
    "import itertools"
   ]
  },
  {
   "cell_type": "code",
   "execution_count": 4,
   "metadata": {
    "scrolled": true
   },
   "outputs": [],
   "source": [
    "# load random sample data set\n",
    "\n",
    "my_dataframe_1 = pd.read_csv(\"/home/jupyter/workspaces/multiallelicgenesinvestigation/OUTPUT_SET_1/SAMPLE_SET_1.csv\", header = 0).astype(int)\n",
    "my_dataframe_1 = my_dataframe_1.dropna()  \n",
    "\n",
    "my_dataframe_2 = pd.read_csv(\"/home/jupyter/workspaces/multiallelicgenesinvestigation/OUTPUT_SET_2/SAMPLE_SET_2.csv\", header = 0, index_col = 0)\n",
    "my_dataframe_2 = my_dataframe_2.dropna()  \n",
    "\n",
    "my_dataframe_3 = pd.read_csv(\"/home/jupyter/workspaces/multiallelicgenesinvestigation/OUTPUT_SET_3/SAMPLE_SET_3.csv\", header = 0, index_col = 0)\n",
    "my_dataframe_3 = my_dataframe_3.dropna()  \n",
    "\n",
    "my_dataframe_4 = pd.read_csv(\"/home/jupyter/workspaces/multiallelicgenesinvestigation/OUTPUT_SET_4/SAMPLE_SET_4.csv\", header = 0, index_col = 0)\n",
    "my_dataframe_4 = my_dataframe_4.dropna()  \n",
    "\n",
    "my_dataframe_1 = my_dataframe_1.astype(int)\n",
    "my_dataframe_2 = my_dataframe_2.astype(int)\n",
    "my_dataframe_3 = my_dataframe_3.astype(int)\n",
    "my_dataframe_4 = my_dataframe_4.astype(int)"
   ]
  },
  {
   "cell_type": "code",
   "execution_count": 5,
   "metadata": {},
   "outputs": [
    {
     "name": "stdout",
     "output_type": "stream",
     "text": [
      "2283\n"
     ]
    }
   ],
   "source": [
    "# Variable assignment\n",
    "# Merge data from three dataset into one\n",
    "\n",
    "global PATH\n",
    "\n",
    "PATH = \"/home/jupyter/workspaces/multiallelicgenesinvestigation/aldy_output/\"\n",
    "\n",
    "PERSON_ID_1 = my_dataframe_1['person_id'].tolist()\n",
    "PERSON_ID_2 = my_dataframe_2['person_id'].tolist()\n",
    "PERSON_ID_3 = my_dataframe_3['person_id'].tolist()\n",
    "PERSON_ID_4 = my_dataframe_4['person_id'].tolist()\n",
    "\n",
    "# Compare <sample list> & <downloaded samples in aldy_output (p)>\n",
    "PERSON_ID_all = list(set(PERSON_ID_1 + PERSON_ID_2 + PERSON_ID_3 + PERSON_ID_4).intersection(p))\n",
    "print(len(PERSON_ID_all))"
   ]
  },
  {
   "cell_type": "code",
   "execution_count": 7,
   "metadata": {},
   "outputs": [],
   "source": [
    "# ######## writing #########\n",
    "# df = pd.DataFrame(PERSON_ID_all,columns = [\"person_id\"])\n",
    "# df.to_csv(\"/home/jupyter/workspaces/multiallelicgenesinvestigation/sample_id_for_set1234.csv\")"
   ]
  },
  {
   "cell_type": "markdown",
   "metadata": {},
   "source": [
    "# Major allele extracting"
   ]
  },
  {
   "cell_type": "code",
   "execution_count": 9,
   "metadata": {},
   "outputs": [],
   "source": [
    "import re\n",
    "import math\n",
    "\n",
    "\n",
    "def allele_extract(ID,line): # Solution 1: *(1.018 +rs548264542 +rs28371721), *(2.019 +rs548264542 +rs28371721 -rs12169962 -rs28633410), *(2.019 -rs12169962 -rs28633410)\n",
    "    str_numbers = re.findall(\"\\d+.\\d+\",line)\n",
    "    \n",
    "    #check if there is \"#\" included allele\n",
    "    sharp = []\n",
    "    for s in str_numbers:\n",
    "        if '#' in s:\n",
    "            sharp.append(s)\n",
    "            \n",
    "    if sharp != []: # \"#\" 들어가는 item이 있는 경우\n",
    "        print(ID,\":\",sharp)\n",
    "        for item in sharp:\n",
    "            str_numbers.remove(item)\n",
    "        \n",
    "    flt_numbers = [float(value) for value in str_numbers] #문자열에서 숫자만\n",
    "    \n",
    "    star_alleles = [] #major allele type\n",
    "    rs = []\n",
    "\n",
    "    for num in flt_numbers:\n",
    "        if num - math.floor(num)>0: #major allele\n",
    "            star_alleles.append(num)\n",
    "        else:\n",
    "            rs.append(\"rs\"+str(num)) #+/-rs\n",
    "            \n",
    "    return star_alleles, rs\n",
    "    "
   ]
  },
  {
   "cell_type": "code",
   "execution_count": 10,
   "metadata": {},
   "outputs": [],
   "source": [
    "from pathlib import Path\n",
    "\n",
    "### Allele Types in Dictionary\n",
    "\n",
    "# ================================================================================\n",
    "\n",
    "#  star_dict {\"person_id\" : [star_allele_1, star_allele_2, star_allele_3, ... ]}\n",
    "#  star_dict {\"person_id\" : [rs_position_1, rs_position_2, rs_position_3, ... ]} \n",
    "#       or  {\"person_id\" : []} // if there is no additional mutation\n",
    "\n",
    "# ================================================================================\n",
    "\n",
    "\n",
    "def file_calling(GENE, PERSON_ID_GROUP): # Gene : (CYP2D6, NUDT15, TPMT)\n",
    "    id_star_dict ={}\n",
    "    id_rs_dict ={}\n",
    "    \n",
    "    for ID in PERSON_ID_GROUP:\n",
    "    \n",
    "        filename = PATH +str(ID) + \"_\" + GENE + \".aldy\"\n",
    "        file = Path(filename)\n",
    "        if file.is_file():\n",
    "\n",
    "            with open(filename, 'r') as file:\n",
    "                aldy = file.readlines() #aldy_output\n",
    "                for line in aldy:\n",
    "                    if line.startswith(\"#Solution 1:\"):   # Includes Solution 1 with the maximum confidence ------ solution2와 차이?, 포함 어떻게?\n",
    "                        #print(line)\n",
    "                        star, rs = allele_extract(ID,line)\n",
    "                        id_star_dict[str(ID)] = star\n",
    "                        id_rs_dict[str(ID)] = rs\n",
    "                \n",
    "    return id_star_dict, id_rs_dict\n",
    "                "
   ]
  },
  {
   "cell_type": "markdown",
   "metadata": {},
   "source": [
    "# Export Matrix"
   ]
  },
  {
   "cell_type": "code",
   "execution_count": 11,
   "metadata": {},
   "outputs": [],
   "source": [
    "## Convert dictionary data to Matrix\n",
    "\n",
    "def dic2mtx(star_dict):\n",
    "    person_id = list(star_dict.keys())\n",
    "    alleles = list(itertools.chain.from_iterable(list(star_dict.values())))\n",
    "    alleles = sorted(list(set(map(math.floor,alleles))))\n",
    "\n",
    "\n",
    "    df = pd.DataFrame(index=person_id, columns=alleles)\n",
    "    df = df.fillna(0)\n",
    "\n",
    "    for ID in star_dict.keys():\n",
    "        x = list(map(math.floor,star_dict[ID]))\n",
    "        for allele in x:\n",
    "            df.loc[ID,allele] += 1\n",
    "    return df\n"
   ]
  },
  {
   "cell_type": "code",
   "execution_count": 12,
   "metadata": {},
   "outputs": [
    {
     "name": "stdout",
     "output_type": "stream",
     "text": [
      "2539640 : ['79#11']\n",
      "1056994 : ['16#10']\n",
      "1180183 : ['16#10']\n",
      "3400406 : ['77#10']\n",
      "1155945 : ['67#10']\n",
      "1247209 : ['79#11']\n",
      "2198824 : ['16#1']\n",
      "2051450 : ['16#4']\n",
      "1978385 : ['16#10']\n",
      "1577194 : ['78#10']\n",
      "3289866 : ['13#2']\n",
      "1717264 : ['13#1']\n",
      "3283925 : ['77#10']\n",
      "2719290 : ['79#11']\n"
     ]
    }
   ],
   "source": [
    "Gene = \"CYP2D6\"\n",
    "CYP2D6_id_star_dict, CYP2D6_id_rs_dict = file_calling(Gene, PERSON_ID_all)   \n",
    "CYP2D6_df = dic2mtx(CYP2D6_id_star_dict)  \n",
    "\n",
    "######## writing #########\n",
    "# CYP2D6_df.to_csv(\"/home/jupyter/workspaces/multiallelicgenesinvestigation/allele_df_for_set1234.csv\")"
   ]
  },
  {
   "cell_type": "markdown",
   "metadata": {},
   "source": [
    "# Mapping with race information\n"
   ]
  },
  {
   "cell_type": "code",
   "execution_count": 212,
   "metadata": {},
   "outputs": [],
   "source": [
    "# p_my_dataframe_1 = pd.read_csv(\"/home/jupyter/workspaces/multiallelicgenesinvestigation/OUTPUT_SET_1/person_data.csv\", header = 0, index_col = 0)\n",
    "# p_my_dataframe_2 = pd.read_csv(\"/home/jupyter/workspaces/multiallelicgenesinvestigation/OUTPUT_SET_2/person_data.csv\", header = 0, index_col = 0)\n",
    "# p_my_dataframe_3 = pd.read_csv(\"/home/jupyter/workspaces/multiallelicgenesinvestigation/OUTPUT_SET_3/person_data.csv\", header = 0, index_col = 0)\n",
    "# p_my_dataframe_3 = pd.read_csv(\"/home/jupyter/workspaces/multiallelicgenesinvestigation/OUTPUT_SET_4/person_data.csv\", header = 0, index_col = 0)\n",
    "\n",
    "# p_dataframe = pd.concat([p_my_dataframe_1, p_my_dataframe_2, p_my_dataframe_3], axis=0)\n",
    "# p_dataframe = p_dataframe[p_dataframe['person_id'].isin(PERSON_ID_all)][['person_id','race']].drop_duplicates()\n",
    "\n",
    "\n",
    "# PERSON_ID_white = list(set(list(p_dataframe[p_dataframe['race']==\"White\"]['person_id'])))\n",
    "# PERSON_ID_black = list(set(list(p_dataframe[p_dataframe['race']=='Black or African American']['person_id'])))\n",
    "# PERSON_ID_asian = list(set(list(p_dataframe[p_dataframe['race']==\"Asian\"]['person_id'])))\n",
    "# PERSON_ID_none = list(set(list(p_dataframe[p_dataframe['race']==\"None Indicated\"]['person_id'])))\n",
    "# PERSON_ID_multiple = list(set(list(p_dataframe[p_dataframe['race']==\"More than one population\"]['person_id'])))"
   ]
  },
  {
   "cell_type": "markdown",
   "metadata": {},
   "source": [
    "# Statistics"
   ]
  },
  {
   "cell_type": "code",
   "execution_count": 13,
   "metadata": {
    "code_folding": []
   },
   "outputs": [],
   "source": [
    "import itertools\n",
    "from collections import Counter\n",
    "import seaborn as sns\n",
    "import matplotlib.pyplot as plt\n",
    "\n",
    "\n",
    "def stat(gene_dict):\n",
    "    L = list(itertools.chain.from_iterable(CYP2D6_id_star_dict.values()))\n",
    "    #print(Counter(L))\n",
    "    \n",
    "    if 'rs' in str(L[0]): ## for rs position\n",
    "        rs_L = L\n",
    "        count_rs_L = Counter(rs_L)\n",
    "        for key in count_rs_L: ## key = rs position, value = number of samples\n",
    "            if(count_rs_L[key]<=100): ## remove rs which samples <= 100\n",
    "                rs_L.remove(key)\n",
    "        \n",
    "        plt.xticks(rotation='vertical',fontsize=10)\n",
    "        plt.hist(rs_L, bins=25)\n",
    "        \n",
    "    else: ## for star allele\n",
    "        major_L = [str(math.floor(x)) for x in L]\n",
    "        \n",
    "        count_major_L = Counter(major_L)\n",
    "        \n",
    "        for key in count_major_L:\n",
    "            if(count_major_L[key]<=1):\n",
    "                major_L.remove(key)\n",
    "        major_L.sort(key=int)\n",
    "        sns.histplot(major_L, kde = True, binwidth = 5,\n",
    "             line_kws = {'linestyle':'dashed',\n",
    "                         'linewidth':'2'}).lines[0].set_color('red') \n",
    "        "
   ]
  },
  {
   "cell_type": "code",
   "execution_count": 18,
   "metadata": {},
   "outputs": [
    {
     "name": "stdout",
     "output_type": "stream",
     "text": [
      "2539640 : ['79#11']\n",
      "1056994 : ['16#10']\n",
      "1180183 : ['16#10']\n",
      "3400406 : ['77#10']\n",
      "1155945 : ['67#10']\n",
      "1247209 : ['79#11']\n",
      "2198824 : ['16#1']\n",
      "2051450 : ['16#4']\n",
      "1978385 : ['16#10']\n",
      "1577194 : ['78#10']\n",
      "3289866 : ['13#2']\n",
      "1717264 : ['13#1']\n",
      "3283925 : ['77#10']\n",
      "2719290 : ['79#11']\n"
     ]
    },
    {
     "data": {
      "image/png": "[encoded data removed]",
      "text/plain": [
       "<Figure size 864x432 with 1 Axes>"
      ]
     },
     "metadata": {},
     "output_type": "display_data"
    }
   ],
   "source": [
    "sns.set(rc={'figure.figsize':(12,6)})\n",
    "Gene = \"CYP2D6\"\n",
    "all_star_dict, all_rs_dict = file_calling(Gene, PERSON_ID_all)   \n",
    "stat(all_star_dict)"
   ]
  },
  {
   "cell_type": "code",
   "execution_count": 37,
   "metadata": {},
   "outputs": [],
   "source": [
    "# white_star_dict, white_rs_dict = file_calling(Gene, PERSON_ID_white)   \n",
    "# stat(white_star_dict)"
   ]
  },
  {
   "cell_type": "code",
   "execution_count": 38,
   "metadata": {},
   "outputs": [],
   "source": [
    "# black_star_dict, black_rs_dict = file_calling(Gene, PERSON_ID_black)   \n",
    "# stat(black_star_dict)"
   ]
  },
  {
   "cell_type": "code",
   "execution_count": 39,
   "metadata": {},
   "outputs": [],
   "source": [
    "# sns.set(rc={'figure.figsize':(12,6)})\n",
    "# asian_star_dict, asian_rs_dict = file_calling(Gene, PERSON_ID_asian)   \n",
    "# stat(asian_star_dict)\n"
   ]
  },
  {
   "cell_type": "code",
   "execution_count": 40,
   "metadata": {},
   "outputs": [],
   "source": [
    "# none_star_dict, none_rs_dict = file_calling(Gene, PERSON_ID_none)   \n",
    "# stat(none_star_dict)"
   ]
  },
  {
   "cell_type": "code",
   "execution_count": 41,
   "metadata": {},
   "outputs": [],
   "source": [
    "# multiple_star_dict, multiple_rs_dict = file_calling(Gene, PERSON_ID_multiple)   \n",
    "# stat(multiple_star_dict)"
   ]
  },
  {
   "cell_type": "markdown",
   "metadata": {},
   "source": [
    "# Novel Allele Finding"
   ]
  },
  {
   "cell_type": "code",
   "execution_count": 273,
   "metadata": {},
   "outputs": [
    {
     "data": {
      "image/png": "[encoded data removed]",
      "text/plain": [
       "<Figure size 864x432 with 1 Axes>"
      ]
     },
     "metadata": {},
     "output_type": "display_data"
    }
   ],
   "source": [
    "stat(all_rs_dict)\n",
    "stat(white_rs_dict)\n",
    "stat(black_rs_dict)\n",
    "stat(asian_rs_dict)\n",
    "stat(multiple_rs_dict)"
   ]
  },
  {
   "cell_type": "code",
   "execution_count": 32,
   "metadata": {},
   "outputs": [],
   "source": [
    "# L = list(itertools.chain.from_iterable(list(all_rs_dict.values())))\n",
    "# print(Counter(L))\n",
    "# L = list(itertools.chain.from_iterable(list(white_rs_dict.values())))\n",
    "# print(Counter(L))\n",
    "# L = list(itertools.chain.from_iterable(list(black_rs_dict.values())))\n",
    "# print(Counter(L))\n",
    "# L = list(itertools.chain.from_iterable(list(asian_rs_dict.values())))\n",
    "# print(Counter(L))"
   ]
  },
  {
   "cell_type": "code",
   "execution_count": 33,
   "metadata": {},
   "outputs": [],
   "source": [
    "# L = list(itertools.chain.from_iterable(list(white_rs_dict.values())))\n",
    "# print(Counter(L))"
   ]
  },
  {
   "cell_type": "code",
   "execution_count": 19,
   "metadata": {},
   "outputs": [],
   "source": [
    "## CYP2D6 \n",
    "## the most frequent rs : rs28735595.0, rs28371699.0\n",
    "## Find star allele which includes additional muatation at \"rs28735595.0\" or \"rs28371699.0\"\n",
    "\n",
    "\n",
    "def keyfind (star_dict, rs_dict, rs):\n",
    "    rs_key = []\n",
    "    for key in rs_dict.keys(): # key = person_id\n",
    "        if rs in rs_dict[key]:\n",
    "            rs_key.append(key)\n",
    "\n",
    "    rs_star = []\n",
    "    for key in rs_key:\n",
    "        rs_star.append(star_dict[key])\n",
    "\n",
    "    L = list(itertools.chain.from_iterable(rs_star))\n",
    "    L = [str(math.floor(x)) for x in L]\n",
    "    L.sort(key=int)\n",
    "    \n",
    "    return L, rs_key\n",
    "\n"
   ]
  },
  {
   "cell_type": "code",
   "execution_count": 20,
   "metadata": {},
   "outputs": [],
   "source": [
    "L1_all, L1_rs_key = keyfind(all_rs_dict, all_star_dict, 'rs28735595.0') \n",
    "L2_all, L2_rs_key = keyfind(all_rs_dict, all_star_dict, 'rs28371699.0')\n",
    "# L1_white = keyfind_1(white_rs_dict, white_star_dict)\n",
    "# L2_white = keyfind_2(white_rs_dict, white_star_dict)\n",
    "# L1_black = keyfind_1(black_rs_dict, black_star_dict)\n",
    "# L2_black = keyfind_2(black_rs_dict, black_star_dict)\n",
    "# L1_asian = keyfind_1(asian_rs_dict, asian_star_dict)\n",
    "# L2_asian  = keyfind_2(asian_rs_dict, asian_star_dict)\n",
    "# L1_multiple = keyfind_1(multiple_rs_dict, multiple_star_dict)\n",
    "# L2_multiple = keyfind_2(multiple_rs_dict, multiple_star_dict)\n"
   ]
  },
  {
   "cell_type": "code",
   "execution_count": 300,
   "metadata": {},
   "outputs": [
    {
     "data": {
      "text/plain": [
       "(array([1., 0., 0., 0., 0., 0., 0., 0., 0., 0., 0., 0., 0., 0., 0., 0., 0.,\n",
       "        0., 0., 0., 0., 0., 0., 0., 1.]),\n",
       " array([ 3.  ,  3.84,  4.68,  5.52,  6.36,  7.2 ,  8.04,  8.88,  9.72,\n",
       "        10.56, 11.4 , 12.24, 13.08, 13.92, 14.76, 15.6 , 16.44, 17.28,\n",
       "        18.12, 18.96, 19.8 , 20.64, 21.48, 22.32, 23.16, 24.  ]),\n",
       " <BarContainer object of 25 artists>)"
      ]
     },
     "execution_count": 300,
     "metadata": {},
     "output_type": "execute_result"
    },
    {
     "data": {
      "image/png": "[encoded data removed]",
      "text/plain": [
       "<Figure size 864x432 with 1 Axes>"
      ]
     },
     "metadata": {},
     "output_type": "display_data"
    }
   ],
   "source": [
    "# plt.xticks(rotation='vertical',fontsize=10)\n",
    "# plt.hist(L1_all, bins=25)\n",
    "# plt.hist(L1_white, bins=25)\n",
    "# plt.hist(L1_black, bins=25)\n",
    "# plt.hist(L1_asian, bins=25)\n",
    "# plt.hist(L1_multiple, bins=25)\n"
   ]
  },
  {
   "cell_type": "code",
   "execution_count": 301,
   "metadata": {},
   "outputs": [
    {
     "name": "stderr",
     "output_type": "stream",
     "text": [
      "/opt/conda/lib/python3.7/site-packages/ipykernel_launcher.py:5: MatplotlibDeprecationWarning: Support for passing numbers through unit converters is deprecated since 3.5 and support will be removed two minor releases later; use Axis.convert_units instead.\n",
      "  \"\"\"\n"
     ]
    },
    {
     "data": {
      "text/plain": [
       "(array([3., 0., 0., 0., 0., 0., 0., 0., 0., 0., 0., 0., 0., 0., 0., 0., 0.,\n",
       "        0., 0., 0., 0., 0., 0., 0., 2.]),\n",
       " array([ 3.  ,  3.52,  4.04,  4.56,  5.08,  5.6 ,  6.12,  6.64,  7.16,\n",
       "         7.68,  8.2 ,  8.72,  9.24,  9.76, 10.28, 10.8 , 11.32, 11.84,\n",
       "        12.36, 12.88, 13.4 , 13.92, 14.44, 14.96, 15.48, 16.  ]),\n",
       " <BarContainer object of 25 artists>)"
      ]
     },
     "execution_count": 301,
     "metadata": {},
     "output_type": "execute_result"
    },
    {
     "data": {
      "image/png": "[encoded data removed]",
      "text/plain": [
       "<Figure size 864x432 with 1 Axes>"
      ]
     },
     "metadata": {},
     "output_type": "display_data"
    }
   ],
   "source": [
    "# plt.xticks(rotation='vertical',fontsize=10)\n",
    "# plt.hist(L2_all, bins=25)\n",
    "# plt.hist(L2_white, bins=25)\n",
    "# plt.hist(L2_black, bins=25)\n",
    "# plt.hist(L2_asian, bins=25)\n",
    "# plt.hist(L2_multiple, bins=25)\n"
   ]
  },
  {
   "cell_type": "markdown",
   "metadata": {},
   "source": [
    "# Extract Samples\n",
    "Find samples which have a very frequent but uncategorized alleles"
   ]
  },
  {
   "cell_type": "markdown",
   "metadata": {},
   "source": [
    "Additional muation at 'rs28735595.0' was frequently found with *1, *4\n",
    "\n",
    "Additional muation at 'rs28371699.0' was frequently found with *1, *4, *68"
   ]
  },
  {
   "cell_type": "code",
   "execution_count": 14,
   "metadata": {},
   "outputs": [],
   "source": [
    "def sample_extract(star_dict, rs_dict, allele, rs):\n",
    "# -------------------------------------\n",
    "# 1. star_dict : dictionary\n",
    "# 2. rs_dict : dictionary\n",
    "# 3. allele : int type star allele\n",
    "# 4. rs : string type rs position\n",
    "# -------------------------------------\n",
    "    \n",
    "    L, L_rs_key = keyfind(star_dict, rs_dict, rs) \n",
    "    \n",
    "    key_list = []\n",
    "    for key in L_rs_key:\n",
    "        allele_in_this_person = list(map(math.floor,star_dict[key]))\n",
    "        if allele in allele_in_this_person:\n",
    "            key_list += [key]\n",
    "            \n",
    "    return key_list"
   ]
  },
  {
   "cell_type": "code",
   "execution_count": 21,
   "metadata": {},
   "outputs": [],
   "source": [
    "# Samples <'rs28735595.0' + *1/*4>\n",
    "L1_1 = sample_extract(CYP2D6_id_star_dict, CYP2D6_id_rs_dict, 1, 'rs28735595.0' )\n",
    "L1_4 = sample_extract(CYP2D6_id_star_dict, CYP2D6_id_rs_dict, 4, 'rs28735595.0' )\n",
    "\n",
    "# Samples <'rs28371699.0' + *1/*4/*68>\n",
    "L2_1 = sample_extract(CYP2D6_id_star_dict, CYP2D6_id_rs_dict, 1, 'rs28371699.0' )\n",
    "L2_4 = sample_extract(CYP2D6_id_star_dict, CYP2D6_id_rs_dict, 4, 'rs28371699.0' )\n",
    "L2_68 = sample_extract(CYP2D6_id_star_dict, CYP2D6_id_rs_dict, 4, 'rs28371699.0' )"
   ]
  },
  {
   "cell_type": "code",
   "execution_count": 22,
   "metadata": {},
   "outputs": [],
   "source": [
    "pd.DataFrame({'person_id':L1_1}).to_csv(\"./novel_allele_finding/rs28735595_*1.csv\")\n",
    "pd.DataFrame({'person_id':L1_4}).to_csv(\"./novel_allele_finding/rs28735595_*4.csv\")\n",
    "pd.DataFrame({'person_id':L2_1}).to_csv(\"./novel_allele_finding/rs28371699_*1.csv\")\n",
    "pd.DataFrame({'person_id':L2_4}).to_csv(\"./novel_allele_finding/rs28371699_*4.csv\")\n",
    "pd.DataFrame({'person_id':L2_68}).to_csv(\"./novel_allele_finding/rs28371699_*68.csv\")"
   ]
  },
  {
   "cell_type": "code",
   "execution_count": null,
   "metadata": {},
   "outputs": [],
   "source": []
  }
 ],
 "metadata": {
  "kernelspec": {
   "display_name": "Python 3",
   "language": "python",
   "name": "python3"
  },
  "language_info": {
   "codemirror_mode": {
    "name": "ipython",
    "version": 3
   },
   "file_extension": ".py",
   "mimetype": "text/x-python",
   "name": "python",
   "nbconvert_exporter": "python",
   "pygments_lexer": "ipython3",
   "version": "3.7.12"
  },
  "toc": {
   "base_numbering": 1,
   "nav_menu": {},
   "number_sections": true,
   "sideBar": true,
   "skip_h1_title": false,
   "title_cell": "Table of Contents",
   "title_sidebar": "Contents",
   "toc_cell": false,
   "toc_position": {},
   "toc_section_display": true,
   "toc_window_display": false
  }
 },
 "nbformat": 4,
 "nbformat_minor": 2
}
