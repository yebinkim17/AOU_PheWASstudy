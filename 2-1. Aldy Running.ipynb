{
 "cells": [
  {
   "cell_type": "markdown",
   "metadata": {},
   "source": [
    "# CRAM file download + Aldy Running + File Deletion"
   ]
  },
  {
   "cell_type": "code",
   "execution_count": 1,
   "metadata": {},
   "outputs": [
    {
     "name": "stderr",
     "output_type": "stream",
     "text": [
      "Warning message in system(\"timedatectl\", intern = TRUE):\n",
      "“running command 'timedatectl' had status 1”\n",
      "── \u001b[1mAttaching packages\u001b[22m ─────────────────────────────────────── tidyverse 1.3.2 ──\n",
      "\u001b[32m✔\u001b[39m \u001b[34mggplot2\u001b[39m 3.4.0      \u001b[32m✔\u001b[39m \u001b[34mpurrr  \u001b[39m 0.3.5 \n",
      "\u001b[32m✔\u001b[39m \u001b[34mtibble \u001b[39m 3.1.8      \u001b[32m✔\u001b[39m \u001b[34mdplyr  \u001b[39m 1.0.10\n",
      "\u001b[32m✔\u001b[39m \u001b[34mtidyr  \u001b[39m 1.2.1      \u001b[32m✔\u001b[39m \u001b[34mstringr\u001b[39m 1.5.0 \n",
      "\u001b[32m✔\u001b[39m \u001b[34mreadr  \u001b[39m 2.1.3      \u001b[32m✔\u001b[39m \u001b[34mforcats\u001b[39m 0.5.2 \n",
      "── \u001b[1mConflicts\u001b[22m ────────────────────────────────────────── tidyverse_conflicts() ──\n",
      "\u001b[31m✖\u001b[39m \u001b[34mdplyr\u001b[39m::\u001b[32mfilter()\u001b[39m masks \u001b[34mstats\u001b[39m::filter()\n",
      "\u001b[31m✖\u001b[39m \u001b[34mdplyr\u001b[39m::\u001b[32mlag()\u001b[39m    masks \u001b[34mstats\u001b[39m::lag()\n"
     ]
    },
    {
     "data": {
      "text/html": [
       "<table class=\"dataframe\">\n",
       "<caption>A data.frame: 6 × 3</caption>\n",
       "<thead>\n",
       "\t<tr><th></th><th scope=col>X</th><th scope=col>person_id</th><th scope=col>condition_concept_id</th></tr>\n",
       "\t<tr><th></th><th scope=col>&lt;int&gt;</th><th scope=col>&lt;int&gt;</th><th scope=col>&lt;int&gt;</th></tr>\n",
       "</thead>\n",
       "<tbody>\n",
       "\t<tr><th scope=row>1</th><td>1</td><td>1979089</td><td>40481919</td></tr>\n",
       "\t<tr><th scope=row>2</th><td>2</td><td>1690280</td><td>  320128</td></tr>\n",
       "\t<tr><th scope=row>3</th><td>3</td><td>2043782</td><td>  320128</td></tr>\n",
       "\t<tr><th scope=row>4</th><td>4</td><td>1183970</td><td>  444070</td></tr>\n",
       "\t<tr><th scope=row>5</th><td>5</td><td>2148635</td><td>  320128</td></tr>\n",
       "\t<tr><th scope=row>6</th><td>6</td><td>2767996</td><td>  320128</td></tr>\n",
       "</tbody>\n",
       "</table>\n"
      ],
      "text/latex": [
       "A data.frame: 6 × 3\n",
       "\\begin{tabular}{r|lll}\n",
       "  & X & person\\_id & condition\\_concept\\_id\\\\\n",
       "  & <int> & <int> & <int>\\\\\n",
       "\\hline\n",
       "\t1 & 1 & 1979089 & 40481919\\\\\n",
       "\t2 & 2 & 1690280 &   320128\\\\\n",
       "\t3 & 3 & 2043782 &   320128\\\\\n",
       "\t4 & 4 & 1183970 &   444070\\\\\n",
       "\t5 & 5 & 2148635 &   320128\\\\\n",
       "\t6 & 6 & 2767996 &   320128\\\\\n",
       "\\end{tabular}\n"
      ],
      "text/markdown": [
       "\n",
       "A data.frame: 6 × 3\n",
       "\n",
       "| <!--/--> | X &lt;int&gt; | person_id &lt;int&gt; | condition_concept_id &lt;int&gt; |\n",
       "|---|---|---|---|\n",
       "| 1 | 1 | 1979089 | 40481919 |\n",
       "| 2 | 2 | 1690280 |   320128 |\n",
       "| 3 | 3 | 2043782 |   320128 |\n",
       "| 4 | 4 | 1183970 |   444070 |\n",
       "| 5 | 5 | 2148635 |   320128 |\n",
       "| 6 | 6 | 2767996 |   320128 |\n",
       "\n"
      ],
      "text/plain": [
       "  X person_id condition_concept_id\n",
       "1 1 1979089   40481919            \n",
       "2 2 1690280     320128            \n",
       "3 3 2043782     320128            \n",
       "4 4 1183970     444070            \n",
       "5 5 2148635     320128            \n",
       "6 6 2767996     320128            "
      ]
     },
     "metadata": {},
     "output_type": "display_data"
    }
   ],
   "source": [
    "# Run the commands below 1) if aldy is not installed 2) if the directory \"aldy_output\" has not been made.\n",
    "\n",
    "# pip install aldy\"\n",
    "# mkdir /home/jupyter/workspaces/multiallelicgenesinvestigation/aldy_output\n",
    "\n",
    "\n",
    "######## 1. Gene Selection\n",
    "\n",
    "#install.packages(\"tidyverse\", dependencies=TRUE)\n",
    "library(tidyverse)  \n",
    "#install.packages(\"readr\", dependencies=TRUE)\n",
    "library(readr)\n",
    "\n",
    "gene_list <-  c(\"COMT\",\"IFNL3\", \"NUDT15\", \"TPMT\",\"CYP2D6\") \n",
    "\n",
    "\n",
    "\n",
    "######## 2. Selected Data calling\n",
    "# Load the file into a dataframe\n",
    "my_dataframe  <- read.csv(\"/home/jupyter/workspaces/multiallelicgenesinvestigation/OUTPUT_SET_4/SAMPLE_SET_4.csv\", header = TRUE, sep=\",\",stringsAsFactors=FALSE)\n",
    "head(my_dataframe)\n",
    "\n",
    "selected_data = my_dataframe\n",
    "person_id_list = c(selected_data$\"person_id\")"
   ]
  },
  {
   "cell_type": "code",
   "execution_count": 1,
   "metadata": {},
   "outputs": [
    {
     "ename": "ERROR",
     "evalue": "Error in eval(expr, envir, enclos): object 'person_id_list' not found\n",
     "output_type": "error",
     "traceback": [
      "Error in eval(expr, envir, enclos): object 'person_id_list' not found\nTraceback:\n"
     ]
    }
   ],
   "source": [
    "######## 3. Job Running\n",
    "## process file - for process tracking. This file will show you what is going on in real-time.\n",
    "\n",
    "\n",
    "p = 1\n",
    "process_file = \"/home/jupyter/workspaces/multiallelicgenesinvestigation/test.out\" ## change the file name if you want to create a new file\n",
    "\n",
    "while (p<=length(person_id_list)){\n",
    "#while (p==2){\n",
    "    \n",
    "    cat(\"############################\", file = process_file, sep = \"\\n\", append = TRUE)\n",
    "\n",
    "    start_time <- Sys.time()\n",
    "    person_id = person_id_list[p]\n",
    "    person_cram = paste0(\"wgs_\",person_id,\".cram\")\n",
    "\n",
    "    cat(paste(\"Start Time:\", start_time), file = process_file, sep = \"\\n\", append = TRUE)\n",
    "    cat(person_id, file = process_file, sep = \"\\n\", append = TRUE)\n",
    "\n",
    "    if (!file.exists(paste0(\"/home/jupyter/workspaces/multiallelicgenesinvestigation/aldy_output/\",person_id,\"_CYP2D6.aldy\"))){\n",
    "\n",
    "        # CRAM file download\n",
    "        cat(\"downloading...\", file = process_file, sep = \"\\n\", append = TRUE)\n",
    "        system(paste0(\"gsutil -m -u $GOOGLE_PROJECT cp gs://fc-aou-datasets-controlled/pooled/wgs/cram/v6_base/wgs_\",person_id,\"* . ;\"), intern=T)\n",
    "    \n",
    "        # Run Aldy\n",
    "        cat(\"Aldy running...\", file = process_file, sep = \"\\n\", append = TRUE)\n",
    "        for (target_gene in gene_list){\n",
    "            cmd = paste0(\"aldy genotype -p wgs -g \",target_gene,\" -o /home/jupyter/workspaces/multiallelicgenesinvestigation/aldy_output/\",person_id,\"_\",target_gene,\".aldy \",person_cram,\" ;\")\n",
    "            system(cmd, intern=T) \n",
    "            }\n",
    "        \n",
    "        if (file.exists(paste0(\"/home/jupyter/workspaces/multiallelicgenesinvestigation/aldy_output/\",person_id,\"_CYP2D6.aldy\"))){\n",
    "            # File Deletion\n",
    "            cat(\"file deleting...\", file = process_file, sep = \"\\n\", append = TRUE)\n",
    "            system(paste0(\"rm \",person_cram,\"* ;\",intern=T))\n",
    "        }\n",
    "         \n",
    "    } \n",
    "    \n",
    "    else {\n",
    "        cat(\"File already exists.\", file = process_file, sep = \"\\n\", append = TRUE)\n",
    "        print(paste(\"File already exists.\"))\n",
    "    }\n",
    "\n",
    "\n",
    "\n",
    "    end_time <- Sys.time()\n",
    "\n",
    "    cat(paste(\"Time Cost:\",end_time - start_time), file = process_file, sep = \"\\n\", append = TRUE)\n",
    "    print(end_time - start_time)\n",
    "    p = p + 1\n",
    "    \n",
    "}"
   ]
  },
  {
   "cell_type": "code",
   "execution_count": 9,
   "metadata": {},
   "outputs": [
    {
     "ename": "ERROR",
     "evalue": "Error in eval(expr, envir, enclos): object 'person_id_list' not found\n",
     "output_type": "error",
     "traceback": [
      "Error in eval(expr, envir, enclos): object 'person_id_list' not found\nTraceback:\n"
     ]
    }
   ],
   "source": [
    "# ######## 3. Job Running\n",
    "\n",
    "\n",
    "\n",
    "# p = 0\n",
    "# while (p<=1000){\n",
    "# #while (p==2){\n",
    "    \n",
    "#     cat(\"############################\", file = \"/home/jupyter/workspaces/multiallelicgenesinvestigation/test.out\", sep = \"\\n\", append = TRUE)\n",
    "\n",
    "#     start_time <- Sys.time()\n",
    "#     person_id = person_id_list[p]\n",
    "#     person_cram = paste0(\"wgs_\",person_id,\".cram\")\n",
    "\n",
    "#     cat(paste(\"Start Time:\", start_time), file = \"/home/jupyter/workspaces/multiallelicgenesinvestigation/test.out\", sep = \"\\n\", append = TRUE)\n",
    "#     cat(person_id, file = \"/home/jupyter/workspaces/multiallelicgenesinvestigation/test.out\", sep = \"\\n\", append = TRUE)\n",
    "\n",
    "#     if (!file.exists(paste0(\"/home/jupyter/workspaces/multiallelicgenesinvestigation/aldy_output/\",person_id,\"_CYP2D6.aldy\"))){\n",
    "\n",
    "#         # CRAM file download\n",
    "#         cat(\"downloading...\", file = \"/home/jupyter/workspaces/multiallelicgenesinvestigation/test.out\", sep = \"\\n\", append = TRUE)\n",
    "#         system(paste0(\"gsutil -m -u $GOOGLE_PROJECT cp gs://fc-aou-datasets-controlled/pooled/wgs/cram/v6_base/wgs_\",person_id,\"* . ;\"), intern=T)\n",
    "    \n",
    "    \n",
    "    \n",
    "#     } else {\n",
    "#         cat(\"File already exists.\", file = \"/home/jupyter/workspaces/multiallelicgenesinvestigation/test.out\", sep = \"\\n\", append = TRUE)\n",
    "#         print(paste(\"File already exists.\"))\n",
    "#     }\n",
    "\n",
    "\n",
    "#     if (file.exists(person_cram)){\n",
    "#         # Run Aldy\n",
    "#         cat(\"Aldy running...\", file = \"/home/jupyter/workspaces/multiallelicgenesinvestigation/test.out\", sep = \"\\n\", append = TRUE)\n",
    "#         for (target_gene in gene_list){\n",
    "#             cmd = paste0(\"aldy genotype -p wgs -g \",target_gene,\" -o /home/jupyter/workspaces/multiallelicgenesinvestigation/aldy_output/\",person_id,\"_\",target_gene,\".aldy \",person_cram,\" ;\")\n",
    "#             system(cmd, intern=T) \n",
    "#         }\n",
    "#     }\n",
    "\n",
    "\n",
    "#     if (file.exists(paste0(\"/home/jupyter/workspaces/multiallelicgenesinvestigation/aldy_output/\",person_id,\"_CYP2D6.aldy\"))){\n",
    "#         # File Deletion\n",
    "#         cat(\"file deleting...\", file = \"/home/jupyter/workspaces/multiallelicgenesinvestigation/test.out\", sep = \"\\n\", append = TRUE)\n",
    "#         system(paste0(\"rm \",person_cram,\"* ;\",intern=T))\n",
    "#         }\n",
    "\n",
    "\n",
    "#     end_time <- Sys.time()\n",
    "\n",
    "#     cat(paste(\"Time Cost:\",end_time - start_time), file = \"/home/jupyter/workspaces/multiallelicgenesinvestigation/test.out\", sep = \"\\n\", append = TRUE)\n",
    "#     print(end_time - start_time)\n",
    "#     p = p + 1\n",
    "    \n",
    "# }"
   ]
  },
  {
   "cell_type": "code",
   "execution_count": null,
   "metadata": {},
   "outputs": [],
   "source": []
  }
 ],
 "metadata": {
  "kernelspec": {
   "display_name": "R",
   "language": "R",
   "name": "ir"
  },
  "language_info": {
   "codemirror_mode": "r",
   "file_extension": ".r",
   "mimetype": "text/x-r-source",
   "name": "R",
   "pygments_lexer": "r",
   "version": "4.2.2"
  },
  "toc": {
   "base_numbering": 1,
   "nav_menu": {},
   "number_sections": true,
   "sideBar": true,
   "skip_h1_title": false,
   "title_cell": "Table of Contents",
   "title_sidebar": "Contents",
   "toc_cell": false,
   "toc_position": {},
   "toc_section_display": true,
   "toc_window_display": false
  }
 },
 "nbformat": 4,
 "nbformat_minor": 2
}
